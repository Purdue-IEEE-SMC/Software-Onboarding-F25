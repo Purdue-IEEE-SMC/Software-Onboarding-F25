{
 "cells": [
  {
   "cell_type": "markdown",
   "id": "71e35745",
   "metadata": {},
   "source": [
    "# Sleepy Driver - ML for Simple EEG Data"
   ]
  },
  {
   "cell_type": "markdown",
   "id": "08f13616",
   "metadata": {},
   "source": [
    "Everything up to preprocessing is done already so you don't have to do it again."
   ]
  },
  {
   "cell_type": "code",
   "execution_count": null,
   "id": "07019034",
   "metadata": {},
   "outputs": [],
   "source": [
    "import pandas as pd\n",
    "import numpy as np\n",
    "from sklearn.model_selection import train_test_split\n",
    "from sklearn.preprocessing import StandardScaler\n",
    "from sklearn.metrics import accuracy_score, classification_report\n",
    "import torch\n",
    "import torch.nn as nn\n",
    "from torch.utils.data import Dataset, DataLoader"
   ]
  },
  {
   "cell_type": "markdown",
   "id": "b040b4e5",
   "metadata": {},
   "source": [
    "## Starter Code"
   ]
  },
  {
   "cell_type": "code",
   "execution_count": null,
   "id": "ef6324f9",
   "metadata": {},
   "outputs": [],
   "source": [
    "# set device\n",
    "device = \"cuda\" if torch.cuda.is_available() else \"cpu\"\n",
    "device = \"cpu\""
   ]
  },
  {
   "cell_type": "code",
   "execution_count": null,
   "id": "6b12ab31",
   "metadata": {},
   "outputs": [],
   "source": [
    "# load data and split accordingly\n",
    "# we're gonna ignore subject splitting here since the dataset is vague about that\n",
    "data_raw = pd.read_csv(\"../sleepy_driver/data/acquiredDataset.csv\")\n",
    "datas0 = data_raw[data_raw['classification'] == 0]\n",
    "datas1 = data_raw[data_raw['classification'] == 1]\n",
    "\n",
    "# create windows of size 5\n",
    "def create_windows(data, window_size=5):\n",
    "    windows = []\n",
    "    labels = []\n",
    "    for i in range(len(data) - window_size + 1):\n",
    "        window = data.iloc[i:i + window_size].drop('classification', axis=1)\n",
    "        label = data.iloc[i + window_size - 1]['classification']\n",
    "        windows.append(np.array(window))\n",
    "        labels.append(label)\n",
    "    return windows, labels\n",
    "\n",
    "w0, l0 = create_windows(datas0)\n",
    "w1, l1 = create_windows(datas1)\n",
    "\n",
    "# concatenate lists\n",
    "w = np.array(w0 + w1)\n",
    "l = l0 + l1\n",
    "\n",
    "w.shape, len(l) # data ends up as 3,727 5x10 2D arrays"
   ]
  },
  {
   "cell_type": "code",
   "execution_count": null,
   "id": "456941c6",
   "metadata": {},
   "outputs": [],
   "source": [
    "# split into 80/10/10 train/val/test split\n",
    "X_train, X_temp, y_train, y_temp = train_test_split(w, l, test_size=0.2, random_state=42, stratify=l)\n",
    "X_valid, X_test, y_valid, y_test = train_test_split(X_temp, y_temp, test_size=0.5, random_state=42, stratify=y_temp)\n",
    "\n",
    "# normalize data\n",
    "scaler = StandardScaler()\n",
    "X_train = scaler.fit_transform(X_train.reshape(-1, X_train.shape[-1])).reshape(X_train.shape)\n",
    "X_valid = scaler.transform(X_valid.reshape(-1, X_valid.shape[-1])).reshape(X_valid.shape)\n",
    "X_test = scaler.transform(X_test.reshape(-1, X_test.shape[-1])).reshape(X_test.shape)\n",
    "\n",
    "print(X_train.shape, len(y_train))\n",
    "print(X_valid.shape, len(y_valid))\n",
    "print(X_test.shape, len(y_test))"
   ]
  },
  {
   "cell_type": "markdown",
   "id": "3ee46241",
   "metadata": {},
   "source": [
    "## All you now"
   ]
  },
  {
   "cell_type": "code",
   "execution_count": null,
   "id": "c049d279",
   "metadata": {},
   "outputs": [],
   "source": [
    "# create a pytorch dataset class that takes the windows and labels as parameters \n",
    "class EEGDataset(Dataset):\n",
    "    def __init__(self, windows, labels):\n",
    "        # store windows and labels as class attributes\n",
    "        pass\n",
    "\n",
    "    def __len__(self):\n",
    "        # return the length of the dataset\n",
    "        pass\n",
    "\n",
    "    def __getitem__(self, idx):\n",
    "        # return a single window and its corresponding label as tensors\n",
    "        # in a tuple (window, label), according to the idx var\n",
    "        pass\n",
    "\n",
    "# create datasets for train, validation, and test sets\n",
    "\n",
    "# create dataloaders for the same 3 sets as above\n"
   ]
  },
  {
   "cell_type": "code",
   "execution_count": null,
   "id": "c4bb979a",
   "metadata": {},
   "outputs": [],
   "source": [
    "# construct a simple model for eval\n",
    "class MultilayerPerceptron(nn.Module):\n",
    "    def __init__(self, input_size=50, hidden_size=16, output_size=1):\n",
    "        super().__init__()\n",
    "        # flatten layer to convert 5x10 -> 50\n",
    "        # batchnorm layer to normalize inputs\n",
    "        \n",
    "        # fully connected sequential layers\n",
    "            # linear layer\n",
    "            # relu activation\n",
    "            # linear layer\n",
    "            # dropout layer\n",
    "\n",
    "    def forward(self, x):\n",
    "        # define forward pass by running x through the layers defined in __init__\n",
    "        return x\n",
    "\n",
    "# instantiate model, loss function (BCEWithLogitsLoss), optimizer(Adam), and set epochs"
   ]
  },
  {
   "cell_type": "code",
   "execution_count": null,
   "id": "c40bccec",
   "metadata": {},
   "outputs": [],
   "source": [
    "# train and validate function\n",
    "def train_and_validate(model, train_loader, valid_loader, criterion, optimizer, epochs):\n",
    "    pass\n",
    "# train_and_validate(...)"
   ]
  },
  {
   "cell_type": "code",
   "execution_count": null,
   "id": "61992143",
   "metadata": {},
   "outputs": [],
   "source": [
    "# build evaluation function\n",
    "def evaluate_model(model, dataloader, criterion):\n",
    "  model.eval()\n",
    "  loss = 0.0\n",
    "  correct = 0\n",
    "  total = 0\n",
    "\n",
    "  predlist = []\n",
    "  ylist = []\n",
    "\n",
    "  for i, (X,y) in enumerate(dataloader):\n",
    "    with torch.inference_mode():\n",
    "      pass\n",
    "\n",
    "  return {\n",
    "      'model_name' : type(model).__name__,\n",
    "      'loss' : loss,\n",
    "      'acc' : round(correct / total,4),\n",
    "    }, classification_report(ylist, predlist)\n",
    "\n",
    "# test_results, report = evaluate_model(model, test_loader, criterion)"
   ]
  }
 ],
 "metadata": {
  "kernelspec": {
   "display_name": "venv",
   "language": "python",
   "name": "python3"
  },
  "language_info": {
   "codemirror_mode": {
    "name": "ipython",
    "version": 3
   },
   "file_extension": ".py",
   "mimetype": "text/x-python",
   "name": "python",
   "nbconvert_exporter": "python",
   "pygments_lexer": "ipython3",
   "version": "3.11.9"
  }
 },
 "nbformat": 4,
 "nbformat_minor": 5
}
